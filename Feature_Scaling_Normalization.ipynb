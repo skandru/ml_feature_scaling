{
  "nbformat": 4,
  "nbformat_minor": 0,
  "metadata": {
    "colab": {
      "provenance": []
    },
    "kernelspec": {
      "name": "python3",
      "display_name": "Python 3"
    },
    "language_info": {
      "name": "python"
    }
  },
  "cells": [
    {
      "cell_type": "code",
      "execution_count": null,
      "metadata": {
        "id": "XS2MbAbh6jsZ"
      },
      "outputs": [],
      "source": []
    },
    {
      "cell_type": "markdown",
      "source": [
        "Import Libraries"
      ],
      "metadata": {
        "id": "YpMsxc_j7Ezy"
      }
    },
    {
      "cell_type": "code",
      "source": [
        "import numpy as np\n",
        "import pandas as pd\n",
        "from sklearn.model_selection import train_test_split"
      ],
      "metadata": {
        "id": "Ogk6V4KY7J8A"
      },
      "execution_count": 1,
      "outputs": []
    },
    {
      "cell_type": "markdown",
      "source": [
        "Load Sample House Price data"
      ],
      "metadata": {
        "id": "JHP3OoXr7UZM"
      }
    },
    {
      "cell_type": "code",
      "source": [
        "dataset = pd.read_csv('house_price_area.csv')\n"
      ],
      "metadata": {
        "id": "bH-KZoIU7VNd"
      },
      "execution_count": 3,
      "outputs": []
    },
    {
      "cell_type": "markdown",
      "source": [
        "Separate features and target"
      ],
      "metadata": {
        "id": "DwVFGSZT7dk9"
      }
    },
    {
      "cell_type": "code",
      "source": [
        "features = dataset.iloc[:,1:].values\n",
        "target = dataset.iloc[:,0].values"
      ],
      "metadata": {
        "id": "5bvNyD0g7tLc"
      },
      "execution_count": 4,
      "outputs": []
    },
    {
      "cell_type": "code",
      "source": [
        "print(features)\n",
        "print(target)"
      ],
      "metadata": {
        "id": "lHv3BTXh7zbr"
      },
      "execution_count": null,
      "outputs": []
    },
    {
      "cell_type": "markdown",
      "source": [
        "Split the data set as train and test sets"
      ],
      "metadata": {
        "id": "yfrRFR2I70Pj"
      }
    },
    {
      "cell_type": "code",
      "source": [
        "features_train, features_test, target_train, target_test = train_test_split(features, target, test_size=0.2, random_state=42)\n"
      ],
      "metadata": {
        "id": "sxyXrwNP7_KY"
      },
      "execution_count": 5,
      "outputs": []
    },
    {
      "cell_type": "markdown",
      "source": [
        "# Function for Min-Max normalization"
      ],
      "metadata": {
        "id": "9GGDx0lR8LX0"
      }
    },
    {
      "cell_type": "code",
      "source": [
        "def min_max_scaler(X):\n",
        "    return (X - X.min(axis=0)) / (X.max(axis=0) - X.min(axis=0))"
      ],
      "metadata": {
        "id": "GsqNpqiy8Qcg"
      },
      "execution_count": 6,
      "outputs": []
    },
    {
      "cell_type": "markdown",
      "source": [
        "Apply Min-Max scaling to training set"
      ],
      "metadata": {
        "id": "DJpgn2e98Vjl"
      }
    },
    {
      "cell_type": "code",
      "source": [
        "features_train = min_max_scaler(features_train)"
      ],
      "metadata": {
        "id": "5HfByWo88Whk"
      },
      "execution_count": 7,
      "outputs": []
    },
    {
      "cell_type": "markdown",
      "source": [
        "Apply Min-Max scaling to the test set"
      ],
      "metadata": {
        "id": "UJGV5xm78fji"
      }
    },
    {
      "cell_type": "code",
      "source": [
        "features_test = min_max_scaler(features_test)\n"
      ],
      "metadata": {
        "id": "tKoYfQkY8gm7"
      },
      "execution_count": 8,
      "outputs": []
    },
    {
      "cell_type": "markdown",
      "source": [
        "Print the normalized data sets"
      ],
      "metadata": {
        "id": "8OHDN-YK8rT0"
      }
    },
    {
      "cell_type": "code",
      "source": [
        "print(\"Normalized training set:\\n\", features_train)\n",
        "print(\"Normalized test set:\\n\", features_test)"
      ],
      "metadata": {
        "colab": {
          "base_uri": "https://localhost:8080/"
        },
        "id": "dXUm7paK8s0n",
        "outputId": "e4407ac8-7872-4c92-c5c2-5ecf58d33044"
      },
      "execution_count": 9,
      "outputs": [
        {
          "output_type": "stream",
          "name": "stdout",
          "text": [
            "Normalized training set:\n",
            " [[0.10447761 0.        ]\n",
            " [0.19402985 0.40740741]\n",
            " [0.34328358 0.33333333]\n",
            " [0.         0.7037037 ]\n",
            " [0.14925373 0.77777778]\n",
            " [1.         0.62962963]\n",
            " [0.64179104 1.        ]\n",
            " [0.29850746 0.88888889]]\n",
            "Normalized test set:\n",
            " [[0. 1.]\n",
            " [1. 0.]]\n"
          ]
        }
      ]
    }
  ]
}