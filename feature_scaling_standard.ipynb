{
  "nbformat": 4,
  "nbformat_minor": 0,
  "metadata": {
    "colab": {
      "provenance": []
    },
    "kernelspec": {
      "name": "python3",
      "display_name": "Python 3"
    },
    "language_info": {
      "name": "python"
    }
  },
  "cells": [
    {
      "cell_type": "markdown",
      "source": [
        "Import Libraries"
      ],
      "metadata": {
        "id": "B41LiJ42suWN"
      }
    },
    {
      "cell_type": "code",
      "source": [
        "import numpy as np\n",
        "import pandas as pd\n",
        "from sklearn.model_selection import train_test_split\n",
        "from sklearn.preprocessing import StandardScaler"
      ],
      "metadata": {
        "id": "aWphwL4rsx1H"
      },
      "execution_count": null,
      "outputs": []
    },
    {
      "cell_type": "markdown",
      "source": [
        "Load Sample House Price data"
      ],
      "metadata": {
        "id": "iQwbWr1Hs7MF"
      }
    },
    {
      "cell_type": "code",
      "source": [
        "dataset = pd.read_csv('house_price_area.csv')"
      ],
      "metadata": {
        "id": "k-tEHPGfs-21"
      },
      "execution_count": null,
      "outputs": []
    },
    {
      "cell_type": "markdown",
      "source": [
        "Separate features and target"
      ],
      "metadata": {
        "id": "8uRQeZCUtW5R"
      }
    },
    {
      "cell_type": "code",
      "source": [
        "features=dataset.iloc[:,1:].values\n",
        "target=dataset.iloc[:,0].values"
      ],
      "metadata": {
        "id": "lxvc0bFRtaeI"
      },
      "execution_count": null,
      "outputs": []
    },
    {
      "cell_type": "code",
      "source": [
        "print(features)\n",
        "print(target)"
      ],
      "metadata": {
        "colab": {
          "base_uri": "https://localhost:8080/"
        },
        "id": "3w3lFJO8tpyo",
        "outputId": "13c0479a-2b3c-4ae0-8be6-56034f6cc40b"
      },
      "execution_count": null,
      "outputs": [
        {
          "output_type": "stream",
          "name": "stdout",
          "text": [
            "[[1500 2002]\n",
            " [2200 1995]\n",
            " [ 850 2010]\n",
            " [3000 2018]\n",
            " [4200 2008]\n",
            " [1200 1991]\n",
            " [1850 2015]\n",
            " [2000 2000]\n",
            " [ 600 1997]\n",
            " [1350 2012]]\n",
            "[250000 380000 120000 410000 600000 175000 320000 290000  95000 210000]\n"
          ]
        }
      ]
    },
    {
      "cell_type": "markdown",
      "source": [
        "Split the data set into 80/20 20% test set and 80% training set"
      ],
      "metadata": {
        "id": "eH5W1CLnt5pp"
      }
    },
    {
      "cell_type": "code",
      "source": [
        "features_train,features_test,target_train,target_test=train_test_split(features,target,test_size=0.2,random_state=42)"
      ],
      "metadata": {
        "id": "tXCH12XNuLa_"
      },
      "execution_count": null,
      "outputs": []
    },
    {
      "cell_type": "markdown",
      "source": [
        "Create Instance of Standard Scaler class"
      ],
      "metadata": {
        "id": "HfzPXQRYukpW"
      }
    },
    {
      "cell_type": "code",
      "source": [
        "sc=StandardScaler()"
      ],
      "metadata": {
        "id": "3f7DtFPguovC"
      },
      "execution_count": null,
      "outputs": []
    },
    {
      "cell_type": "markdown",
      "source": [
        "Fit the StandardScaler on the features from the training set and transform"
      ],
      "metadata": {
        "id": "1-tS16uYu6Mp"
      }
    },
    {
      "cell_type": "code",
      "source": [
        "features_train = sc.fit_transform(features_train)"
      ],
      "metadata": {
        "id": "zt_khGlKu-PV"
      },
      "execution_count": null,
      "outputs": []
    },
    {
      "cell_type": "markdown",
      "source": [
        "Apply the transform to the test set"
      ],
      "metadata": {
        "id": "36IxD1fVvH0a"
      }
    },
    {
      "cell_type": "code",
      "source": [
        "features_test= sc.transform(features_test)"
      ],
      "metadata": {
        "id": "TYIbV_BsvOYp"
      },
      "execution_count": null,
      "outputs": []
    },
    {
      "cell_type": "markdown",
      "source": [
        "Print the scaled data sets both train and test sets"
      ],
      "metadata": {
        "id": "3Pb2q6izydxV"
      }
    },
    {
      "cell_type": "code",
      "source": [
        "    print(\"Scaled training set:\\n\", features_train)\n",
        "    print(\"Scaled test set:\\n\", features_test)"
      ],
      "metadata": {
        "colab": {
          "base_uri": "https://localhost:8080/"
        },
        "id": "N_OhDJXTyhoK",
        "outputId": "3dc89f8a-6c35-429e-f61f-8824a099ec03"
      },
      "execution_count": null,
      "outputs": [
        {
          "output_type": "stream",
          "name": "stdout",
          "text": [
            "Scaled training set:\n",
            " [[-0.77017804 -1.92967261]\n",
            " [-0.47908713 -0.60302269]\n",
            " [ 0.00606439 -0.84423176]\n",
            " [-1.1097841   0.36181361]\n",
            " [-0.62463258  0.60302269]\n",
            " [ 2.14073109  0.12060454]\n",
            " [ 0.97636744  1.32664992]\n",
            " [-0.13948106  0.9648363 ]]\n",
            "Scaled test set:\n",
            " [[-1.35235986 -1.20604538]\n",
            " [ 0.200125   -1.44725445]]\n"
          ]
        }
      ]
    }
  ]
}